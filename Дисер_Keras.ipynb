{
  "nbformat": 4,
  "nbformat_minor": 0,
  "metadata": {
    "colab": {
      "provenance": []
    },
    "kernelspec": {
      "name": "python3",
      "display_name": "Python 3"
    },
    "language_info": {
      "name": "python"
    }
  },
  "cells": [
    {
      "cell_type": "code",
      "execution_count": null,
      "metadata": {
        "colab": {
          "base_uri": "https://localhost:8080/",
          "height": 35
        },
        "id": "E0cmbuqicyZ-",
        "outputId": "73ff5882-2c53-4e80-93bc-a3f9560fde45"
      },
      "outputs": [
        {
          "output_type": "execute_result",
          "data": {
            "text/plain": [
              "'\\nfile = files.upload()\\n!mkdir ~/.kaggle\\n!mv kaggle.json ~/.kaggle\\n!kaggle datasets download -d sameepvani/nasa-nearest-earth-objects\\n!unzip nasa-nearest-earth-objects.zip\\n'"
            ],
            "application/vnd.google.colaboratory.intrinsic+json": {
              "type": "string"
            }
          },
          "metadata": {},
          "execution_count": 1
        }
      ],
      "source": [
        "%matplotlib inline\n",
        "from google.colab import files\n",
        "\n",
        "import numpy as np\n",
        "import matplotlib.pyplot as plt\n",
        "import time\n",
        "import pandas as pd\n",
        " \n",
        "from tensorflow import keras\n",
        "import keras.backend as K\n",
        "import tensorflow as tf\n",
        "from keras.layers import Dense, Activation, Dropout\n",
        "\n",
        "\"\"\"\n",
        "file = files.upload()\n",
        "!mkdir ~/.kaggle\n",
        "!mv kaggle.json ~/.kaggle\n",
        "!kaggle datasets download -d sameepvani/nasa-nearest-earth-objects\n",
        "!unzip nasa-nearest-earth-objects.zip\n",
        "\"\"\""
      ]
    },
    {
      "cell_type": "code",
      "source": [
        "df = pd.read_csv(\"neo.csv\")\n",
        "df = df.drop(columns='orbiting_body')\n",
        "df = df.drop(columns='id')\n",
        "df = df.drop(columns='name')"
      ],
      "metadata": {
        "id": "b4DoeHdUc7zS"
      },
      "execution_count": null,
      "outputs": []
    },
    {
      "cell_type": "code",
      "source": [
        "x_train = df.to_numpy()\n",
        "BUFFER_SIZE = x_train.shape[0]"
      ],
      "metadata": {
        "id": "-YrCK4Sxdd20"
      },
      "execution_count": null,
      "outputs": []
    },
    {
      "cell_type": "code",
      "source": [
        "BATCH_SIZE = 32\n",
        "BUFFER_SIZE = BUFFER_SIZE // BATCH_SIZE * BATCH_SIZE\n",
        "BATCH_COUNT = BUFFER_SIZE // BATCH_SIZE\n",
        "x_train = x_train[:BUFFER_SIZE]"
      ],
      "metadata": {
        "id": "UMgvzqj0c8-o"
      },
      "execution_count": null,
      "outputs": []
    },
    {
      "cell_type": "code",
      "source": [
        "#генератор_1\n",
        "generator_1 = tf.keras.Sequential()\n",
        "generator_1.add(Dense(16, input_dim=7))\n",
        "generator_1.add(Activation('relu'))\n",
        "generator_1.add(Dense(32))\n",
        "generator_1.add(Activation('relu'))\n",
        "generator_1.add(Dense(64))\n",
        "generator_1.add(Activation('relu'))\n",
        "generator_1.add(Dense(7))\n",
        "generator_1.add(Activation('relu'))\n",
        "\n",
        "#генератор_2\n",
        "generator_2 = tf.keras.Sequential()\n",
        "generator_2.add(Dense(16, input_dim=7))\n",
        "generator_2.add(Activation('relu'))\n",
        "generator_2.add(Dense(32))\n",
        "generator_2.add(Activation('relu'))\n",
        "generator_2.add(Dense(64))\n",
        "generator_2.add(Activation('relu'))\n",
        "generator_2.add(Dense(128))\n",
        "generator_2.add(Activation('relu'))\n",
        "generator_2.add(Dense(7))\n",
        "generator_2.add(Activation('relu'))\n",
        "\n",
        "#генератор_3\n",
        "generator_3 = tf.keras.Sequential()\n",
        "generator_3.add(Dense(8, input_dim=7))\n",
        "generator_3.add(Activation('relu'))\n",
        "generator_3.add(Dense(16))\n",
        "generator_3.add(Activation('relu'))\n",
        "generator_3.add(Dense(32))\n",
        "generator_3.add(Activation('relu'))\n",
        "generator_3.add(Dense(7))\n",
        "generator_3.add(Activation('relu'))\n",
        "\n",
        "#генератор_4\n",
        "generator_4 = tf.keras.Sequential()\n",
        "generator_4.add(Dense(8, input_dim=7))\n",
        "generator_4.add(Activation('relu'))\n",
        "generator_4.add(Dense(16))\n",
        "generator_4.add(Activation('relu'))\n",
        "generator_4.add(Dense(32))\n",
        "generator_4.add(Activation('relu'))\n",
        "generator_4.add(Dense(64))\n",
        "generator_4.add(Activation('relu'))\n",
        "generator_4.add(Dense(7))\n",
        "generator_4.add(Activation('relu'))"
      ],
      "metadata": {
        "id": "QBZxHX2UkeO9"
      },
      "execution_count": null,
      "outputs": []
    },
    {
      "cell_type": "code",
      "source": [
        "#дискриминатор_1\n",
        "discriminator_1 = tf.keras.Sequential()\n",
        "discriminator_1.add(Dense(256, input_dim=7))\n",
        "discriminator_1.add(Activation('relu'))\n",
        "discriminator_1.add(Dense(128))\n",
        "discriminator_1.add(Activation('relu'))\n",
        "discriminator_1.add(Dense(64))\n",
        "discriminator_1.add(Activation('relu'))\n",
        "discriminator_1.add(Dense(1))\n",
        "discriminator_1.add(Activation('sigmoid'))\n",
        "\n",
        "#дискриминатор_2\n",
        "discriminator_2 = tf.keras.Sequential()\n",
        "discriminator_2.add(Dense(64, input_dim=7))\n",
        "discriminator_2.add(Activation('relu'))\n",
        "discriminator_2.add(Dense(32))\n",
        "discriminator_2.add(Activation('relu'))\n",
        "discriminator_2.add(Dense(16))\n",
        "discriminator_2.add(Activation('relu'))\n",
        "discriminator_2.add(Dense(1))\n",
        "discriminator_2.add(Activation('sigmoid'))\n",
        "\n",
        "#дискриминатор_3\n",
        "discriminator_3 = tf.keras.Sequential()\n",
        "discriminator_3.add(Dense(32, input_dim=7))\n",
        "discriminator_3.add(Activation('relu'))\n",
        "discriminator_3.add(Dense(16))\n",
        "discriminator_3.add(Activation('relu'))\n",
        "discriminator_3.add(Dense(1))\n",
        "discriminator_3.add(Activation('sigmoid'))\n",
        "\n",
        "#дискриминатор_4\n",
        "discriminator_4 = tf.keras.Sequential()\n",
        "discriminator_4.add(Dense(128, input_dim=7))\n",
        "discriminator_4.add(Activation('relu'))\n",
        "discriminator_4.add(Dense(64))\n",
        "discriminator_4.add(Activation('relu'))\n",
        "discriminator_4.add(Dense(32))\n",
        "discriminator_4.add(Activation('relu'))\n",
        "discriminator_4.add(Dense(1))\n",
        "discriminator_4.add(Activation('sigmoid'))"
      ],
      "metadata": {
        "id": "UhIolO8PljXo"
      },
      "execution_count": null,
      "outputs": []
    },
    {
      "cell_type": "code",
      "source": [
        "# потери\n",
        "generator_loss = tf.keras.losses.BinaryCrossentropy()\n",
        "discriminator_loss = tf.keras.losses.CategoricalCrossentropy()\n",
        "\n",
        "def generator_loss_1(fake_output):\n",
        "  loss = generator_loss(tf.ones_like(fake_output), fake_output)\n",
        "  return loss\n",
        "\n",
        "def generator_loss_2(fake_output):\n",
        "  loss = generator_loss(tf.ones_like(fake_output), fake_output)\n",
        "  return loss\n",
        "\n",
        "def generator_loss_3(fake_output):\n",
        "  loss = generator_loss(tf.ones_like(fake_output), fake_output)\n",
        "  return loss\n",
        "\n",
        "def generator_loss_4(fake_output):\n",
        "  loss = generator_loss(tf.ones_like(fake_output), fake_output)\n",
        "  return loss\n",
        "\n",
        "def discriminator_loss_1(real_output, fake_output):\n",
        "  real_loss = discriminator_loss(tf.ones_like(real_output), real_output)\n",
        "  fake_loss = discriminator_loss(tf.zeros_like(fake_output), fake_output)\n",
        "  total_loss = real_loss + fake_loss\n",
        "  return total_loss\n",
        "\n",
        "def discriminator_loss_2(real_output, fake_output):\n",
        "  real_loss = discriminator_loss(tf.ones_like(real_output), real_output)\n",
        "  fake_loss = discriminator_loss(tf.zeros_like(fake_output), fake_output)\n",
        "  total_loss = real_loss + fake_loss\n",
        "  return total_loss\n",
        "\n",
        "def discriminator_loss_3(real_output, fake_output):\n",
        "  real_loss = discriminator_loss(tf.ones_like(real_output), real_output)\n",
        "  fake_loss = discriminator_loss(tf.zeros_like(fake_output), fake_output)\n",
        "  total_loss = real_loss + fake_loss\n",
        "  return total_loss\n",
        "\n",
        "def discriminator_loss_4(real_output, fake_output):\n",
        "  real_loss = discriminator_loss(tf.ones_like(real_output), real_output)\n",
        "  fake_loss = discriminator_loss(tf.zeros_like(fake_output), fake_output)\n",
        "  total_loss = real_loss + fake_loss\n",
        "  return total_loss"
      ],
      "metadata": {
        "id": "gFwHyGsRnOyZ"
      },
      "execution_count": null,
      "outputs": []
    },
    {
      "cell_type": "code",
      "source": [
        "generator_optimizer_1 = tf.keras.optimizers.Adamax(1e-4)\n",
        "generator_optimizer_2 = tf.keras.optimizers.Adam(1e-4)\n",
        "generator_optimizer_3 = tf.keras.optimizers.Adamax(1e-4)\n",
        "generator_optimizer_4 = tf.keras.optimizers.Adam(1e-4)\n",
        "discriminator_optimizer_1 = tf.keras.optimizers.Adamax(1e-4)\n",
        "discriminator_optimizer_2 = tf.keras.optimizers.Adam(1e-4)\n",
        "discriminator_optimizer_3 = tf.keras.optimizers.Adamax(1e-4)\n",
        "discriminator_optimizer_4 = tf.keras.optimizers.Adam(1e-4)"
      ],
      "metadata": {
        "id": "nXkSKhWgogAP"
      },
      "execution_count": null,
      "outputs": []
    },
    {
      "cell_type": "code",
      "source": [
        "# обучение\n",
        "@tf.function\n",
        "def train_step(images):\n",
        "  noise = tf.random.normal([BATCH_SIZE//4, 7])\n",
        "\n",
        "  with tf.GradientTape() as gen_tape_1, tf.GradientTape() as disc_tape_1, tf.GradientTape() as gen_tape_2, tf.GradientTape() as disc_tape_2, tf.GradientTape() as gen_tape_3, tf.GradientTape() as disc_tape_3, tf.GradientTape() as gen_tape_4, tf.GradientTape() as disc_tape_4:\n",
        "\n",
        "    generated_samples_11 = generator_1(noise, training=True)\n",
        "    generated_samples_12 = generator_1(noise, training=True)\n",
        "    generated_samples_13 = generator_1(noise, training=True)\n",
        "    generated_samples_14 = generator_1(noise, training=True)\n",
        "\n",
        "    generated_samples_21 = generator_2(noise, training=True)\n",
        "    generated_samples_22 = generator_2(noise, training=True)\n",
        "    generated_samples_23 = generator_2(noise, training=True)\n",
        "    generated_samples_24 = generator_2(noise, training=True)\n",
        "\n",
        "    generated_samples_31 = generator_3(noise, training=True)\n",
        "    generated_samples_32 = generator_3(noise, training=True)\n",
        "    generated_samples_33 = generator_3(noise, training=True)\n",
        "    generated_samples_34 = generator_3(noise, training=True)\n",
        "\n",
        "    generated_samples_41 = generator_4(noise, training=True)\n",
        "    generated_samples_42 = generator_4(noise, training=True) \n",
        "    generated_samples_43 = generator_4(noise, training=True) \n",
        "    generated_samples_44 = generator_4(noise, training=True)  \n",
        "\n",
        "    real_output_1 = discriminator_1(images, training=True)\n",
        "    real_output_2 = discriminator_2(images, training=True)\n",
        "    real_output_3 = discriminator_3(images, training=True)\n",
        "    real_output_4 = discriminator_4(images, training=True)\n",
        "\n",
        "    fake_output_11 = discriminator_1(generated_samples_11, training=True)\n",
        "    fake_output_12 = discriminator_1(generated_samples_21, training=True)\n",
        "    fake_output_13 = discriminator_1(generated_samples_31, training=True)\n",
        "    fake_output_14 = discriminator_1(generated_samples_41, training=True)\n",
        "\n",
        "    fake_output_21 = discriminator_2(generated_samples_12, training=True)\n",
        "    fake_output_22 = discriminator_2(generated_samples_22, training=True)\n",
        "    fake_output_23 = discriminator_2(generated_samples_32, training=True)\n",
        "    fake_output_24 = discriminator_2(generated_samples_42, training=True)\n",
        "\n",
        "    fake_output_31 = discriminator_3(generated_samples_13, training=True)\n",
        "    fake_output_32 = discriminator_3(generated_samples_23, training=True)\n",
        "    fake_output_33 = discriminator_3(generated_samples_33, training=True)\n",
        "    fake_output_34 = discriminator_3(generated_samples_43, training=True)\n",
        "\n",
        "    fake_output_41 = discriminator_4(generated_samples_14, training=True)\n",
        "    fake_output_42 = discriminator_4(generated_samples_24, training=True)\n",
        "    fake_output_43 = discriminator_4(generated_samples_34, training=True)\n",
        "    fake_output_44 = discriminator_4(generated_samples_44, training=True)\n",
        "\n",
        "    gen_loss_1 = generator_loss_1(tf.concat([fake_output_11, fake_output_21, fake_output_31, fake_output_41], axis=0))\n",
        "    gen_loss_2 = generator_loss_2(tf.concat([fake_output_12, fake_output_22, fake_output_32, fake_output_42], axis=0))\n",
        "    gen_loss_3 = generator_loss_3(tf.concat([fake_output_13, fake_output_23, fake_output_33, fake_output_43], axis=0))\n",
        "    gen_loss_4 = generator_loss_4(tf.concat([fake_output_14, fake_output_24, fake_output_34, fake_output_44], axis=0))\n",
        "\n",
        "    disc_loss_1 = discriminator_loss_1(real_output_1, tf.concat([fake_output_11, fake_output_12, fake_output_13, fake_output_14], axis=0))\n",
        "    disc_loss_2 = discriminator_loss_2(real_output_2, tf.concat([fake_output_21, fake_output_22, fake_output_23, fake_output_24], axis=0))\n",
        "    disc_loss_3 = discriminator_loss_3(real_output_3, tf.concat([fake_output_31, fake_output_32, fake_output_33, fake_output_34], axis=0))\n",
        "    disc_loss_4 = discriminator_loss_4(real_output_4, tf.concat([fake_output_41, fake_output_42, fake_output_43, fake_output_44], axis=0))\n",
        "\n",
        "  gradients_of_generator_1 = gen_tape_1.gradient(gen_loss_1, generator_1.trainable_variables)\n",
        "  gradients_of_generator_2 = gen_tape_2.gradient(gen_loss_2, generator_2.trainable_variables)\n",
        "  gradients_of_generator_3 = gen_tape_3.gradient(gen_loss_3, generator_3.trainable_variables)\n",
        "  gradients_of_generator_4 = gen_tape_4.gradient(gen_loss_4, generator_4.trainable_variables)\n",
        "\n",
        "  gradients_of_discriminator_1 = disc_tape_1.gradient(disc_loss_1, discriminator_1.trainable_variables)\n",
        "  gradients_of_discriminator_2 = disc_tape_2.gradient(disc_loss_2, discriminator_2.trainable_variables) \n",
        "  gradients_of_discriminator_3 = disc_tape_3.gradient(disc_loss_3, discriminator_3.trainable_variables)\n",
        "  gradients_of_discriminator_4 = disc_tape_4.gradient(disc_loss_4, discriminator_4.trainable_variables)\n",
        "\n",
        "  generator_optimizer_1.apply_gradients(zip(gradients_of_generator_1, generator_1.trainable_variables))\n",
        "  generator_optimizer_2.apply_gradients(zip(gradients_of_generator_2, generator_2.trainable_variables))\n",
        "  generator_optimizer_3.apply_gradients(zip(gradients_of_generator_3, generator_3.trainable_variables))\n",
        "  generator_optimizer_4.apply_gradients(zip(gradients_of_generator_4, generator_4.trainable_variables))\n",
        "\n",
        "  discriminator_optimizer_1.apply_gradients(zip(gradients_of_discriminator_1, discriminator_1.trainable_variables))\n",
        "  discriminator_optimizer_2.apply_gradients(zip(gradients_of_discriminator_2, discriminator_2.trainable_variables))\n",
        "  discriminator_optimizer_3.apply_gradients(zip(gradients_of_discriminator_3, discriminator_3.trainable_variables))\n",
        "  discriminator_optimizer_4.apply_gradients(zip(gradients_of_discriminator_4, discriminator_4.trainable_variables))\n",
        "\n",
        "  return gen_loss_1, gen_loss_2, gen_loss_3, gen_loss_4, disc_loss_1, disc_loss_2, disc_loss_3, disc_loss_4"
      ],
      "metadata": {
        "id": "kTKtw_lmoncZ"
      },
      "execution_count": null,
      "outputs": []
    },
    {
      "cell_type": "code",
      "source": [
        "def train(dataset, epochs):\n",
        "  history_1 = []\n",
        "  history_2 = []\n",
        "  history_3 = []\n",
        "  history_4 = []\n",
        "\n",
        "  MAX_PRINT_LABEL = 10\n",
        "  th = BUFFER_SIZE // (BATCH_SIZE*MAX_PRINT_LABEL)\n",
        "  for epoch in range(1, epochs+1):\n",
        "    print(f'{epoch}/{EPOCHS}: ', end='')\n",
        "\n",
        "    start = time.time()\n",
        "    n = 0\n",
        "\n",
        "    gen_loss_epoch_1 = 0\n",
        "    gen_loss_epoch_2 = 0\n",
        "    gen_loss_epoch_3 = 0\n",
        "    gen_loss_epoch_4 = 0\n",
        "    cur_record = 0\n",
        "    for i in range(BATCH_COUNT):\n",
        "      image_batch = tf.convert_to_tensor(dataset[cur_record:cur_record+BATCH_SIZE], tf.float32)\n",
        "      gen_loss_1, gen_loss_2, gen_loss_3, gen_loss_4, disc_loss_1, disc_loss_2, disc_loss_3, disc_loss_4 = train_step(image_batch)\n",
        "      gen_loss_epoch_1 += K.mean(gen_loss_1)\n",
        "      gen_loss_epoch_2 += K.mean(gen_loss_2)\n",
        "      gen_loss_epoch_3 += K.mean(gen_loss_3)\n",
        "      gen_loss_epoch_4 += K.mean(gen_loss_4)\n",
        "\n",
        "      if( n % th == 0): print('=', end='')\n",
        "      n += 1\n",
        "\n",
        "    history_1 += [gen_loss_epoch_1/n]\n",
        "    history_2 += [gen_loss_epoch_2/n]\n",
        "    history_3 += [gen_loss_epoch_3/n]\n",
        "    history_4 += [gen_loss_epoch_4/n]\n",
        "\n",
        "    print(': '+str(history_1[-1]))\n",
        "    print ('Время эпохи {} составляет {} секунд'.format(epoch + 1, time.time()-start))\n",
        "  \n",
        "  return history_1, history_2, history_3, history_4"
      ],
      "metadata": {
        "id": "cAXVELQPf_Yy"
      },
      "execution_count": null,
      "outputs": []
    },
    {
      "cell_type": "code",
      "source": [
        "# запуск процесса обучения\n",
        "EPOCHS = 4\n",
        "history_1, history_2, history_3, history_4 = train(x_train, EPOCHS)"
      ],
      "metadata": {
        "colab": {
          "base_uri": "https://localhost:8080/"
        },
        "id": "XjJcMT96ikGZ",
        "outputId": "bad006d8-e2b4-4029-b0ef-fcc09cdf6e1e"
      },
      "execution_count": null,
      "outputs": [
        {
          "output_type": "stream",
          "name": "stdout",
          "text": [
            "1/4: ===========: tf.Tensor(0.43521932, shape=(), dtype=float32)\n",
            "Время эпохи 2 составляет 54.38975524902344 секунд\n",
            "2/4: ===========: tf.Tensor(0.014668963, shape=(), dtype=float32)\n",
            "Время эпохи 3 составляет 31.61688995361328 секунд\n",
            "3/4: ===========: tf.Tensor(0.00018193555, shape=(), dtype=float32)\n",
            "Время эпохи 4 составляет 32.05517840385437 секунд\n",
            "4/4: ===========: tf.Tensor(5.9149197e-06, shape=(), dtype=float32)\n",
            "Время эпохи 5 составляет 30.05879306793213 секунд\n"
          ]
        }
      ]
    },
    {
      "cell_type": "code",
      "source": [
        "plt.plot(history_1)\n",
        "plt.grid(True)"
      ],
      "metadata": {
        "colab": {
          "base_uri": "https://localhost:8080/",
          "height": 265
        },
        "id": "uNukvJRsmtmn",
        "outputId": "d5d2e27f-42d2-4d96-c4c7-b01aaa95fb8f"
      },
      "execution_count": null,
      "outputs": [
        {
          "output_type": "display_data",
          "data": {
            "text/plain": [
              "<Figure size 432x288 with 1 Axes>"
            ],
            "image/png": "[encoded data removed]"
          },
          "metadata": {
            "needs_background": "light"
          }
        }
      ]
    },
    {
      "cell_type": "code",
      "source": [
        "plt.plot(history_2)\n",
        "plt.grid(True)"
      ],
      "metadata": {
        "colab": {
          "base_uri": "https://localhost:8080/",
          "height": 265
        },
        "id": "no8IuKASm2mP",
        "outputId": "e701114a-bcc7-4ced-9c49-630b86f31951"
      },
      "execution_count": null,
      "outputs": [
        {
          "output_type": "display_data",
          "data": {
            "text/plain": [
              "<Figure size 432x288 with 1 Axes>"
            ],
            "image/png": "[encoded data removed]"
          },
          "metadata": {
            "needs_background": "light"
          }
        }
      ]
    },
    {
      "cell_type": "code",
      "source": [
        "plt.plot(history_3)\n",
        "plt.grid(True)"
      ],
      "metadata": {
        "colab": {
          "base_uri": "https://localhost:8080/",
          "height": 267
        },
        "id": "R8iFI700m4r1",
        "outputId": "c5b87fce-9036-4025-ce47-ca0bae367c81"
      },
      "execution_count": null,
      "outputs": [
        {
          "output_type": "display_data",
          "data": {
            "text/plain": [
              "<Figure size 432x288 with 1 Axes>"
            ],
            "image/png": "[encoded data removed]"
          },
          "metadata": {
            "needs_background": "light"
          }
        }
      ]
    },
    {
      "cell_type": "code",
      "source": [
        "plt.plot(history_4)\n",
        "plt.grid(True)"
      ],
      "metadata": {
        "colab": {
          "base_uri": "https://localhost:8080/",
          "height": 265
        },
        "id": "8eIceAIcm6TM",
        "outputId": "ae956554-c26c-4e58-899b-9e6606175811"
      },
      "execution_count": null,
      "outputs": [
        {
          "output_type": "display_data",
          "data": {
            "text/plain": [
              "<Figure size 432x288 with 1 Axes>"
            ],
            "image/png": "[encoded data removed]"
          },
          "metadata": {
            "needs_background": "light"
          }
        }
      ]
    },
    {
      "cell_type": "code",
      "source": [
        "history_3"
      ],
      "metadata": {
        "colab": {
          "base_uri": "https://localhost:8080/"
        },
        "id": "8jH4v7jHnCEt",
        "outputId": "0813b63b-8626-4f5e-abbc-81f63badf6ba"
      },
      "execution_count": null,
      "outputs": [
        {
          "output_type": "execute_result",
          "data": {
            "text/plain": [
              "[<tf.Tensor: shape=(), dtype=float32, numpy=0.6583108>,\n",
              " <tf.Tensor: shape=(), dtype=float32, numpy=0.6147771>,\n",
              " <tf.Tensor: shape=(), dtype=float32, numpy=0.6120934>,\n",
              " <tf.Tensor: shape=(), dtype=float32, numpy=0.61116064>]"
            ]
          },
          "metadata": {},
          "execution_count": 16
        }
      ]
    },
    {
      "cell_type": "code",
      "source": [
        "history_1"
      ],
      "metadata": {
        "colab": {
          "base_uri": "https://localhost:8080/"
        },
        "id": "L3bRd0XLn_5l",
        "outputId": "49e326ce-074c-4933-b2c6-baef856adf89"
      },
      "execution_count": null,
      "outputs": [
        {
          "output_type": "execute_result",
          "data": {
            "text/plain": [
              "[<tf.Tensor: shape=(), dtype=float32, numpy=0.43521932>,\n",
              " <tf.Tensor: shape=(), dtype=float32, numpy=0.014668963>,\n",
              " <tf.Tensor: shape=(), dtype=float32, numpy=0.00018193555>,\n",
              " <tf.Tensor: shape=(), dtype=float32, numpy=5.9149197e-06>]"
            ]
          },
          "metadata": {},
          "execution_count": 17
        }
      ]
    },
    {
      "cell_type": "code",
      "source": [
        "history_2"
      ],
      "metadata": {
        "colab": {
          "base_uri": "https://localhost:8080/"
        },
        "id": "9RzI07lAoGFH",
        "outputId": "c4ab5880-5007-434b-deb4-ebdd71bfbe88"
      },
      "execution_count": null,
      "outputs": [
        {
          "output_type": "execute_result",
          "data": {
            "text/plain": [
              "[<tf.Tensor: shape=(), dtype=float32, numpy=0.632841>,\n",
              " <tf.Tensor: shape=(), dtype=float32, numpy=0.62550074>,\n",
              " <tf.Tensor: shape=(), dtype=float32, numpy=0.6252491>,\n",
              " <tf.Tensor: shape=(), dtype=float32, numpy=0.62522817>]"
            ]
          },
          "metadata": {},
          "execution_count": 18
        }
      ]
    },
    {
      "cell_type": "code",
      "source": [
        "history_4"
      ],
      "metadata": {
        "colab": {
          "base_uri": "https://localhost:8080/"
        },
        "id": "uTlBfwebqIbd",
        "outputId": "c34efb5b-319f-4d60-ed37-0f6fd7b7ec60"
      },
      "execution_count": null,
      "outputs": [
        {
          "output_type": "execute_result",
          "data": {
            "text/plain": [
              "[<tf.Tensor: shape=(), dtype=float32, numpy=0.14543353>,\n",
              " <tf.Tensor: shape=(), dtype=float32, numpy=0.0005301034>,\n",
              " <tf.Tensor: shape=(), dtype=float32, numpy=5.1683513e-05>,\n",
              " <tf.Tensor: shape=(), dtype=float32, numpy=7.930187e-06>]"
            ]
          },
          "metadata": {},
          "execution_count": 19
        }
      ]
    }
  ]
}