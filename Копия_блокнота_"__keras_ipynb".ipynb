{
  "nbformat": 4,
  "nbformat_minor": 0,
  "metadata": {
    "colab": {
      "provenance": [],
      "include_colab_link": true
    },
    "kernelspec": {
      "name": "python3",
      "display_name": "Python 3"
    },
    "language_info": {
      "name": "python"
    }
  },
  "cells": [
    {
      "cell_type": "markdown",
      "metadata": {
        "id": "view-in-github",
        "colab_type": "text"
      },
      "source": [
        "<a href=\"https://colab.research.google.com/github/maxs24/GAN_modification/blob/main/%D0%9A%D0%BE%D0%BF%D0%B8%D1%8F_%D0%B1%D0%BB%D0%BE%D0%BA%D0%BD%D0%BE%D1%82%D0%B0_%22__keras_ipynb%22.ipynb\" target=\"_parent\"><img src=\"https://colab.research.google.com/assets/colab-badge.svg\" alt=\"Open In Colab\"/></a>"
      ]
    },
    {
      "cell_type": "code",
      "execution_count": null,
      "metadata": {
        "colab": {
          "base_uri": "https://localhost:8080/",
          "height": 194
        },
        "id": "E0cmbuqicyZ-",
        "outputId": "1b8a0e1e-2901-4571-c213-06b4e0a71835"
      },
      "outputs": [
        {
          "output_type": "display_data",
          "data": {
            "text/plain": [
              "<IPython.core.display.HTML object>"
            ],
            "text/html": [
              "\n",
              "     <input type=\"file\" id=\"files-016f2340-aa41-4c57-8634-48f8b95677f7\" name=\"files[]\" multiple disabled\n",
              "        style=\"border:none\" />\n",
              "     <output id=\"result-016f2340-aa41-4c57-8634-48f8b95677f7\">\n",
              "      Upload widget is only available when the cell has been executed in the\n",
              "      current browser session. Please rerun this cell to enable.\n",
              "      </output>\n",
              "      <script>// Copyright 2017 Google LLC\n",
              "//\n",
              "// Licensed under the Apache License, Version 2.0 (the \"License\");\n",
              "// you may not use this file except in compliance with the License.\n",
              "// You may obtain a copy of the License at\n",
              "//\n",
              "//      http://www.apache.org/licenses/LICENSE-2.0\n",
              "//\n",
              "// Unless required by applicable law or agreed to in writing, software\n",
              "// distributed under the License is distributed on an \"AS IS\" BASIS,\n",
              "// WITHOUT WARRANTIES OR CONDITIONS OF ANY KIND, either express or implied.\n",
              "// See the License for the specific language governing permissions and\n",
              "// limitations under the License.\n",
              "\n",
              "/**\n",
              " * @fileoverview Helpers for google.colab Python module.\n",
              " */\n",
              "(function(scope) {\n",
              "function span(text, styleAttributes = {}) {\n",
              "  const element = document.createElement('span');\n",
              "  element.textContent = text;\n",
              "  for (const key of Object.keys(styleAttributes)) {\n",
              "    element.style[key] = styleAttributes[key];\n",
              "  }\n",
              "  return element;\n",
              "}\n",
              "\n",
              "// Max number of bytes which will be uploaded at a time.\n",
              "const MAX_PAYLOAD_SIZE = 100 * 1024;\n",
              "\n",
              "function _uploadFiles(inputId, outputId) {\n",
              "  const steps = uploadFilesStep(inputId, outputId);\n",
              "  const outputElement = document.getElementById(outputId);\n",
              "  // Cache steps on the outputElement to make it available for the next call\n",
              "  // to uploadFilesContinue from Python.\n",
              "  outputElement.steps = steps;\n",
              "\n",
              "  return _uploadFilesContinue(outputId);\n",
              "}\n",
              "\n",
              "// This is roughly an async generator (not supported in the browser yet),\n",
              "// where there are multiple asynchronous steps and the Python side is going\n",
              "// to poll for completion of each step.\n",
              "// This uses a Promise to block the python side on completion of each step,\n",
              "// then passes the result of the previous step as the input to the next step.\n",
              "function _uploadFilesContinue(outputId) {\n",
              "  const outputElement = document.getElementById(outputId);\n",
              "  const steps = outputElement.steps;\n",
              "\n",
              "  const next = steps.next(outputElement.lastPromiseValue);\n",
              "  return Promise.resolve(next.value.promise).then((value) => {\n",
              "    // Cache the last promise value to make it available to the next\n",
              "    // step of the generator.\n",
              "    outputElement.lastPromiseValue = value;\n",
              "    return next.value.response;\n",
              "  });\n",
              "}\n",
              "\n",
              "/**\n",
              " * Generator function which is called between each async step of the upload\n",
              " * process.\n",
              " * @param {string} inputId Element ID of the input file picker element.\n",
              " * @param {string} outputId Element ID of the output display.\n",
              " * @return {!Iterable<!Object>} Iterable of next steps.\n",
              " */\n",
              "function* uploadFilesStep(inputId, outputId) {\n",
              "  const inputElement = document.getElementById(inputId);\n",
              "  inputElement.disabled = false;\n",
              "\n",
              "  const outputElement = document.getElementById(outputId);\n",
              "  outputElement.innerHTML = '';\n",
              "\n",
              "  const pickedPromise = new Promise((resolve) => {\n",
              "    inputElement.addEventListener('change', (e) => {\n",
              "      resolve(e.target.files);\n",
              "    });\n",
              "  });\n",
              "\n",
              "  const cancel = document.createElement('button');\n",
              "  inputElement.parentElement.appendChild(cancel);\n",
              "  cancel.textContent = 'Cancel upload';\n",
              "  const cancelPromise = new Promise((resolve) => {\n",
              "    cancel.onclick = () => {\n",
              "      resolve(null);\n",
              "    };\n",
              "  });\n",
              "\n",
              "  // Wait for the user to pick the files.\n",
              "  const files = yield {\n",
              "    promise: Promise.race([pickedPromise, cancelPromise]),\n",
              "    response: {\n",
              "      action: 'starting',\n",
              "    }\n",
              "  };\n",
              "\n",
              "  cancel.remove();\n",
              "\n",
              "  // Disable the input element since further picks are not allowed.\n",
              "  inputElement.disabled = true;\n",
              "\n",
              "  if (!files) {\n",
              "    return {\n",
              "      response: {\n",
              "        action: 'complete',\n",
              "      }\n",
              "    };\n",
              "  }\n",
              "\n",
              "  for (const file of files) {\n",
              "    const li = document.createElement('li');\n",
              "    li.append(span(file.name, {fontWeight: 'bold'}));\n",
              "    li.append(span(\n",
              "        `(${file.type || 'n/a'}) - ${file.size} bytes, ` +\n",
              "        `last modified: ${\n",
              "            file.lastModifiedDate ? file.lastModifiedDate.toLocaleDateString() :\n",
              "                                    'n/a'} - `));\n",
              "    const percent = span('0% done');\n",
              "    li.appendChild(percent);\n",
              "\n",
              "    outputElement.appendChild(li);\n",
              "\n",
              "    const fileDataPromise = new Promise((resolve) => {\n",
              "      const reader = new FileReader();\n",
              "      reader.onload = (e) => {\n",
              "        resolve(e.target.result);\n",
              "      };\n",
              "      reader.readAsArrayBuffer(file);\n",
              "    });\n",
              "    // Wait for the data to be ready.\n",
              "    let fileData = yield {\n",
              "      promise: fileDataPromise,\n",
              "      response: {\n",
              "        action: 'continue',\n",
              "      }\n",
              "    };\n",
              "\n",
              "    // Use a chunked sending to avoid message size limits. See b/62115660.\n",
              "    let position = 0;\n",
              "    do {\n",
              "      const length = Math.min(fileData.byteLength - position, MAX_PAYLOAD_SIZE);\n",
              "      const chunk = new Uint8Array(fileData, position, length);\n",
              "      position += length;\n",
              "\n",
              "      const base64 = btoa(String.fromCharCode.apply(null, chunk));\n",
              "      yield {\n",
              "        response: {\n",
              "          action: 'append',\n",
              "          file: file.name,\n",
              "          data: base64,\n",
              "        },\n",
              "      };\n",
              "\n",
              "      let percentDone = fileData.byteLength === 0 ?\n",
              "          100 :\n",
              "          Math.round((position / fileData.byteLength) * 100);\n",
              "      percent.textContent = `${percentDone}% done`;\n",
              "\n",
              "    } while (position < fileData.byteLength);\n",
              "  }\n",
              "\n",
              "  // All done.\n",
              "  yield {\n",
              "    response: {\n",
              "      action: 'complete',\n",
              "    }\n",
              "  };\n",
              "}\n",
              "\n",
              "scope.google = scope.google || {};\n",
              "scope.google.colab = scope.google.colab || {};\n",
              "scope.google.colab._files = {\n",
              "  _uploadFiles,\n",
              "  _uploadFilesContinue,\n",
              "};\n",
              "})(self);\n",
              "</script> "
            ]
          },
          "metadata": {}
        },
        {
          "output_type": "stream",
          "name": "stdout",
          "text": [
            "Saving kaggle.json to kaggle.json\n",
            "Warning: Your Kaggle API key is readable by other users on this system! To fix this, you can run 'chmod 600 /root/.kaggle/kaggle.json'\n",
            "Downloading nasa-nearest-earth-objects.zip to /content\n",
            " 76% 5.00M/6.60M [00:00<00:00, 38.5MB/s]\n",
            "100% 6.60M/6.60M [00:00<00:00, 47.0MB/s]\n",
            "Archive:  nasa-nearest-earth-objects.zip\n",
            "  inflating: neo.csv                 \n",
            "  inflating: neo_v2.csv              \n"
          ]
        }
      ],
      "source": [
        "%matplotlib inline\n",
        "from google.colab import files\n",
        "\n",
        "import numpy as np\n",
        "import matplotlib.pyplot as plt\n",
        "import time\n",
        "import pandas as pd\n",
        " \n",
        "from tensorflow import keras\n",
        "import keras.backend as K\n",
        "import tensorflow as tf\n",
        "from keras.layers import Dense, Activation, Dropout\n",
        "from keras.layers.normalization.batch_normalization_v1 import BatchNormalization\n",
        "\n",
        "\n",
        "file = files.upload()\n",
        "!mkdir ~/.kaggle\n",
        "!mv kaggle.json ~/.kaggle\n",
        "!kaggle datasets download -d sameepvani/nasa-nearest-earth-objects\n",
        "!unzip nasa-nearest-earth-objects.zip\n"
      ]
    },
    {
      "cell_type": "code",
      "source": [
        "def new_model(configuration):\n",
        "  model = tf.keras.Sequential()\n",
        "\n",
        "  for layer in configuration['layers']:\n",
        "        model.add(layer)\n",
        "\n",
        "  loss = configuration['loss']\n",
        "  optimizator = configuration['optimizator']\n",
        "  return {'model': model, 'loss': loss, 'optimizator': optimizator}\n",
        "\n",
        "\n",
        "def generator_loss(fake_output, generator_loss):\n",
        "  loss = generator_loss(tf.ones_like(fake_output), fake_output)\n",
        "  return loss\n",
        "\n",
        "\n",
        "def discriminator_loss(real_output, fake_output, discriminator_loss):\n",
        "  real_loss = discriminator_loss(tf.ones_like(real_output), real_output)\n",
        "  fake_loss = discriminator_loss(tf.zeros_like(fake_output), fake_output)\n",
        "  total_loss = real_loss + fake_loss\n",
        "  return total_loss\n",
        "\n",
        "\n",
        "def normalization(data_frame,  column_list):\n",
        "  data_frame_normal = pd.DataFrame()\n",
        "  mean_list = []\n",
        "  std_list = []\n",
        "\n",
        "  for key, value in column_list.items():\n",
        "    if value:\n",
        "      mean_list.append(data_frame[key].mean())\n",
        "      std_list.append(data_frame[key].std())\n",
        "      data_frame_normal[key] = (data_frame[key]-mean_list[-1]) / std_list[-1]\n",
        "    else:\n",
        "      data_frame_normal[key] = data_frame[key]\n",
        "  return data_frame_normal, mean_list, std_list\n",
        "\n",
        "\n",
        "def denormalization(predict, mean_list, std_list):\n",
        "  new_predict = []\n",
        "  i = 0\n",
        "  for index, pr in enumerate(predict):\n",
        "      if index not in BOOL_INDEX:\n",
        "        new_predict.append(pr*std_list[i] + mean_list[i])\n",
        "        i += 1\n",
        "      else:\n",
        "        new_predict.append(pr)\n",
        "  return new_predict\n",
        "\n",
        "\n",
        "def bool_to_int(data_frame, column_list):\n",
        "  for key, value in column_list.items():\n",
        "    if not value:\n",
        "      data_frame.loc[data_frame[key] == False, key] = 0\n",
        "      data_frame.loc[data_frame[key] == True, key] = 1\n",
        "\n",
        "  \n",
        "def import_csv():\n",
        "  df = pd.read_csv(\"neo.csv\")\n",
        "  df = df.drop(columns='orbiting_body')\n",
        "  df = df.drop(columns='id')\n",
        "  df = df.drop(columns='name')\n",
        "  df = df.drop(columns='sentry_object')\n",
        "\n",
        "  df_false = df.loc[df['hazardous']==False].head(12000)\n",
        "  df_true = df.loc[df['hazardous']==True]\n",
        "  return pd.concat([df_true, df_false])\n",
        "\n",
        "\n",
        "def is_duplicate(pr, tr):\n",
        "  i = 0\n",
        "  while i < INPUT_DIMENSION:\n",
        "    if abs(pr[i] - tr[i]) > tr[i] * PERCENT:\n",
        "      return False\n",
        "    i += 1\n",
        "  return True\n",
        "\n",
        "\n",
        "def delete_duplicates(predict, train):\n",
        "  result = []\n",
        "  for pr in predict:\n",
        "    is_dupl = False\n",
        "    for tr in train:\n",
        "        if is_duplicate(pr, tr):\n",
        "          is_dupl = True\n",
        "\n",
        "    if not is_dupl:\n",
        "      result.append(pr)\n",
        "  return result\n",
        "\n",
        "def float_to_bool(predict):\n",
        "  for pr in predict:\n",
        "    if pr[-1] > 0.5:\n",
        "      pr[-1] = True\n",
        "    else:\n",
        "      pr[-1] = False"
      ],
      "metadata": {
        "id": "AEUV5O0_AO92"
      },
      "execution_count": null,
      "outputs": []
    },
    {
      "cell_type": "code",
      "source": [
        "# обучение\n",
        "@tf.function\n",
        "def train_step(images):\n",
        "  noise = tf.random.normal([BATCH_SIZE//4, INPUT_DIMENSION])\n",
        "\n",
        "  with tf.GradientTape() as gen_tape_1, tf.GradientTape() as disc_tape_1, tf.GradientTape() as gen_tape_2, tf.GradientTape() as disc_tape_2, tf.GradientTape() as gen_tape_3, tf.GradientTape() as disc_tape_3, tf.GradientTape() as gen_tape_4, tf.GradientTape() as disc_tape_4:\n",
        "    \n",
        "    generated_samples = []\n",
        "    for generator in generators:\n",
        "      generated_samples.append(list())\n",
        "      for i in range(4):\n",
        "          generated_samples[-1].append(generator['model'](noise, training=True))\n",
        "    \n",
        "    real_output = []\n",
        "    for discriminator in discriminators:\n",
        "      real_output.append(discriminator['model'](images, training=True))\n",
        "\n",
        "    fake_output = []\n",
        "    for index, discriminator in enumerate(discriminators):\n",
        "      fake_output.append(list())\n",
        "      for i in range(4):\n",
        "        fake_output[-1].append(discriminator['model'](generated_samples[i][index], training=True))\n",
        "\n",
        "    gen_loss = []\n",
        "    for index, generator in enumerate(generators):\n",
        "      gen_loss.append(generator_loss(tf.concat([fake_output[0][index], fake_output[1][index], fake_output[2][index], fake_output[3][index]], axis=0), generator['loss']))\n",
        "\n",
        "    disc_loss = []\n",
        "    for index, discriminator in enumerate(discriminators):\n",
        "      disc_loss.append(discriminator_loss(real_output[index], tf.concat([fake_output[0][index], fake_output[1][index], fake_output[2][index], fake_output[3][index]], axis=0), discriminator['loss']))\n",
        "    \n",
        "\n",
        "  gradients_of_generator = []\n",
        "  gradients_of_generator.append(gen_tape_1.gradient(gen_loss[0], generators[0]['model'].trainable_variables))\n",
        "  gradients_of_generator.append(gen_tape_2.gradient(gen_loss[1], generators[1]['model'].trainable_variables))\n",
        "  gradients_of_generator.append(gen_tape_3.gradient(gen_loss[2], generators[2]['model'].trainable_variables))\n",
        "  gradients_of_generator.append(gen_tape_4.gradient(gen_loss[3], generators[3]['model'].trainable_variables))\n",
        "\n",
        "  gradients_of_discriminator = []\n",
        "  gradients_of_discriminator.append(disc_tape_1.gradient(disc_loss[0], discriminators[0]['model'].trainable_variables))\n",
        "  gradients_of_discriminator.append(disc_tape_2.gradient(disc_loss[1], discriminators[1]['model'].trainable_variables))\n",
        "  gradients_of_discriminator.append(disc_tape_3.gradient(disc_loss[2], discriminators[2]['model'].trainable_variables))\n",
        "  gradients_of_discriminator.append(disc_tape_4.gradient(disc_loss[3], discriminators[3]['model'].trainable_variables))\n",
        "\n",
        "\n",
        "  for index, generator in enumerate(generators):\n",
        "      generator['optimizator'].apply_gradients(zip(gradients_of_generator[index], generator['model'].trainable_variables))\n",
        "  \n",
        "  for index, discriminator in enumerate(discriminators):\n",
        "    discriminator['optimizator'].apply_gradients(zip(gradients_of_discriminator[index], discriminator['model'].trainable_variables))\n",
        "  \n",
        "\n",
        "  return gen_loss, disc_loss"
      ],
      "metadata": {
        "id": "X2pTt9H9jKt8"
      },
      "execution_count": null,
      "outputs": []
    },
    {
      "cell_type": "code",
      "source": [
        "def train(dataset, epochs):\n",
        "  history_1 = []\n",
        "  history_2 = []\n",
        "  history_3 = []\n",
        "  history_4 = []\n",
        "\n",
        "  MAX_PRINT_LABEL = 10\n",
        "  th = buffer_size // (BATCH_SIZE*MAX_PRINT_LABEL)\n",
        "  for epoch in range(1, epochs+1):\n",
        "    print(f'{epoch}/{EPOCHS}: ', end='')\n",
        "\n",
        "    start = time.time()\n",
        "    n = 0\n",
        "\n",
        "    gen_loss_epoch = [0, 0, 0, 0]\n",
        "    cur_record = 0\n",
        "    for i in range(batch_count):\n",
        "      image_batch = tf.convert_to_tensor(dataset[cur_record:cur_record+BATCH_SIZE], tf.float32)\n",
        "      gen_loss, disc_loss = train_step(image_batch)\n",
        "      \n",
        "      for i in range(len(gen_loss_epoch)):\n",
        "        gen_loss_epoch[i] += K.mean(gen_loss[i])\n",
        "\n",
        "      if( n % th == 0): print('=', end='')\n",
        "      n += 1\n",
        "\n",
        "    history_1 += [gen_loss_epoch[0]/n]\n",
        "    history_2 += [gen_loss_epoch[1]/n]\n",
        "    history_3 += [gen_loss_epoch[2]/n]\n",
        "    history_4 += [gen_loss_epoch[3]/n]\n",
        "\n",
        "    print(': '+str(history_1[-1]))\n",
        "    print ('Время эпохи {} составляет {} секунд'.format(epoch + 1, time.time()-start))\n",
        "  \n",
        "  return history_1, history_2, history_3, history_4"
      ],
      "metadata": {
        "id": "pjBTGNSQjLvb"
      },
      "execution_count": null,
      "outputs": []
    },
    {
      "cell_type": "code",
      "source": [
        "BATCH_SIZE = 32\n",
        "INPUT_DIMENSION = 6\n",
        "PERCENT = 0.05\n",
        "EPOCHS = 2\n",
        "BOOL_INDEX = [5]"
      ],
      "metadata": {
        "id": "EvxOKPgkEG1p"
      },
      "execution_count": null,
      "outputs": []
    },
    {
      "cell_type": "code",
      "source": [
        "df = import_csv()\n",
        "\n",
        "columns_dict = {}\n",
        "for col in df.columns:\n",
        "  if col == 'hazardous':\n",
        "    columns_dict[col] = False\n",
        "  else:\n",
        "    columns_dict[col] = True\n",
        "\n",
        "df_normal, mean, std = normalization(df, columns_dict)\n",
        "bool_to_int(df_normal, columns_dict)\n",
        "\n",
        "x_train = df_normal.to_numpy()\n",
        "\n",
        "buffer_size = x_train.shape[0] // BATCH_SIZE * BATCH_SIZE\n",
        "batch_count = buffer_size // BATCH_SIZE\n",
        "\n",
        "x_train = x_train[:buffer_size]\n",
        "np.random.shuffle(x_train)"
      ],
      "metadata": {
        "id": "b4DoeHdUc7zS"
      },
      "execution_count": null,
      "outputs": []
    },
    {
      "cell_type": "code",
      "source": [
        "list_generator_configurations = [\n",
        "    {'layers': [Dense(64, activation='relu',input_dim=INPUT_DIMENSION),\n",
        "                Dense(32, activation='relu'),\n",
        "                Dense(INPUT_DIMENSION, activation='relu')\n",
        "                ],\n",
        "     'optimizator': tf.keras.optimizers.Adamax(1e-4),\n",
        "     'loss': tf.keras.losses.BinaryCrossentropy()},\n",
        "\n",
        "    {'layers': [Dense(32, activation='relu',input_dim=INPUT_DIMENSION),\n",
        "                Dense(8, activation='relu'),\n",
        "                Dense(INPUT_DIMENSION, activation='sigmoid')\n",
        "                ],\n",
        "     'optimizator': tf.keras.optimizers.Adam(1e-4),\n",
        "     'loss': tf.keras.losses.BinaryCrossentropy()},\n",
        "\n",
        "    {'layers': [Dense(16, activation='relu',input_dim=INPUT_DIMENSION),\n",
        "                Dense(8, activation='relu'),\n",
        "                Dense(INPUT_DIMENSION, activation='softmax')\n",
        "                ],\n",
        "     'optimizator': tf.keras.optimizers.Adamax(1e-4),\n",
        "     'loss': tf.keras.losses.BinaryCrossentropy()},\n",
        "\n",
        "    {'layers': [Dense(128, activation='relu',input_dim=INPUT_DIMENSION), Dropout(0.5),\n",
        "                Dense(32, activation='relu'),\n",
        "                Dense(INPUT_DIMENSION, activation='softmax')\n",
        "                ],\n",
        "     'optimizator': tf.keras.optimizers.Adam(1e-4),\n",
        "     'loss': tf.keras.losses.BinaryCrossentropy()}\n",
        "]\n",
        "\n",
        "list_discriminator_configurations = [\n",
        "    {'layers': [Dense(128, activation='relu',input_dim=INPUT_DIMENSION), Dropout(0.5),\n",
        "                Dense(64, activation='relu'),\n",
        "                Dense(1, activation='sigmoid')\n",
        "                ],\n",
        "     'optimizator': tf.keras.optimizers.Adamax(1e-4),\n",
        "     'loss': tf.keras.losses.CategoricalCrossentropy()},\n",
        "\n",
        "    {'layers': [Dense(64, activation='relu',input_dim=INPUT_DIMENSION),\n",
        "                Dense(32, activation='relu'),\n",
        "                Dense(1, activation='softmax')\n",
        "                ],\n",
        "     'optimizator': tf.keras.optimizers.Adam(1e-4),\n",
        "     'loss': tf.keras.losses.CategoricalCrossentropy()},\n",
        "\n",
        "    {'layers': [Dense(32, activation='relu',input_dim=INPUT_DIMENSION),\n",
        "                Dense(8, activation='relu'),\n",
        "                Dense(1, activation='softmax')\n",
        "                ],\n",
        "     'optimizator': tf.keras.optimizers.Adamax(1e-4),\n",
        "     'loss': tf.keras.losses.CategoricalCrossentropy()},\n",
        "\n",
        "    {'layers': [Dense(64, activation='relu',input_dim=INPUT_DIMENSION),\n",
        "                Dense(16, activation='relu'),\n",
        "                Dense(1, activation='sigmoid')\n",
        "                ],\n",
        "     'optimizator': tf.keras.optimizers.Adam(1e-4),\n",
        "     'loss': tf.keras.losses.CategoricalCrossentropy()}\n",
        "]\n",
        "\n",
        "generators = []\n",
        "for config in list_generator_configurations:\n",
        "  generators.append(new_model(config))\n",
        "\n",
        "discriminators = []\n",
        "for config in list_discriminator_configurations:\n",
        "  discriminators.append(new_model(config))\n",
        "\n",
        "# запуск процесса обучения\n",
        "history_1, history_2, history_3, history_4 = train(x_train, EPOCHS)"
      ],
      "metadata": {
        "id": "7XGunu6JEgDL",
        "outputId": "467e80c6-3277-4785-e7d6-94ac0086baf7",
        "colab": {
          "base_uri": "https://localhost:8080/"
        }
      },
      "execution_count": null,
      "outputs": [
        {
          "output_type": "stream",
          "name": "stdout",
          "text": [
            "1/2: ===========: tf.Tensor(0.33541948, shape=(), dtype=float32)\n",
            "Время эпохи 2 составляет 20.60534930229187 секунд\n",
            "2/2: ===========: tf.Tensor(0.2955997, shape=(), dtype=float32)\n",
            "Время эпохи 3 составляет 3.6898176670074463 секунд\n"
          ]
        }
      ]
    },
    {
      "cell_type": "code",
      "source": [
        "res = []\n",
        "res_1 = []\n",
        "for m in x_train[0:5]:\n",
        "  res.append(denormalization(m, mean, std))\n",
        "  res_1.append(denormalization(m, mean, std))\n",
        "\n",
        "res_dupl = delete_duplicates(res, res_1)\n",
        "for r in res_dupl:\n",
        "  print(r)"
      ],
      "metadata": {
        "id": "Lrv92nWYnfmQ"
      },
      "execution_count": null,
      "outputs": []
    },
    {
      "cell_type": "code",
      "source": [
        "noise = tf.random.normal([100, INPUT_DIMENSION])\n",
        "mas_1 = generators[1]['model'].predict(noise)\n",
        "res = []\n",
        "for m in mas_1:\n",
        "  res.append(denormalization(m, mean, std))\n",
        "float_to_bool(res)\n",
        "res_dupl = delete_duplicates(res, df.to_numpy())\n",
        "for r in res_dupl:\n",
        "  print(r)"
      ],
      "metadata": {
        "id": "LQQR2Y53mPnb",
        "outputId": "d8b5f3a0-e73c-4f24-fd9d-6f738dbb29f9",
        "colab": {
          "base_uri": "https://localhost:8080/"
        }
      },
      "execution_count": null,
      "outputs": [
        {
          "output_type": "stream",
          "name": "stdout",
          "text": [
            "4/4 [==============================] - 0s 4ms/step\n",
            "[0.31766048259457996, 0.9376356597170192, 73907.26759212281, 61075887.95186061, 24.077853483346566, True]\n",
            "[0.24034838168725803, 0.7939512743271555, 68599.10081596195, 60961805.15268414, 23.541192573746976, False]\n",
            "[0.23843964202704285, 0.7965316437091663, 68906.98688729202, 60949055.30964807, 23.52908150314287, False]\n",
            "[0.27606069657693894, 0.9138616253982854, 74008.99552294845, 60888755.86342771, 23.88299846524292, True]\n",
            "[0.29972794432944866, 0.8617052954604234, 71360.00786070534, 58597997.07638454, 23.727386974783936, True]\n",
            "[0.2962881588024221, 0.8923080202084352, 73079.73812283459, 59022677.4442945, 23.78284503395978, True]\n",
            "[0.2814194282064213, 0.8963879897539109, 73242.33488482691, 60197757.7703968, 23.81605992236393, True]\n",
            "[0.3017348658669815, 0.8908950316114493, 72748.24089002534, 59231727.525150955, 23.811404644617873, True]\n",
            "[0.3219023330102598, 0.8335843003412596, 69437.4345751647, 57271281.03367104, 23.696248070185675, True]\n",
            "[0.31083742173123713, 0.9111613190436793, 73256.2886164048, 60062109.59992705, 23.92494745535734, True]\n",
            "[0.2379074971677891, 0.8065102963608327, 69180.69878212595, 61374284.3363097, 23.59632071926773, True]\n",
            "[0.30659067415129926, 0.8864517159822088, 72429.51353329643, 59382787.458308145, 23.81774580671615, True]\n",
            "[0.308217149650555, 0.8764603884671552, 72557.82191534106, 58091729.302689314, 23.716420372091875, True]\n",
            "[0.3080442739681928, 0.8760632427476912, 72532.16152573159, 58576056.8910227, 23.72620423006798, True]\n",
            "[0.25883752412269384, 0.9105413716439947, 74449.39459353867, 60831252.72742936, 23.801799639057368, True]\n",
            "[0.3053463702659156, 0.8670759023705967, 71549.34753234769, 59610945.659015, 23.775025824587093, True]\n",
            "[0.27039233016913544, 0.8597253438416537, 71773.64150265508, 59887972.7097922, 23.689690375610933, True]\n",
            "[0.25821132816345427, 0.8662354813268242, 72293.33154709343, 60447487.50710201, 23.693917532846427, True]\n",
            "[0.2714731092566654, 0.8798768246031354, 72728.15234205112, 60090731.09264915, 23.743528533165577, True]\n",
            "[0.2781875118780105, 0.8170270918092002, 69021.63106763588, 59558611.0117515, 23.642527556259978, True]\n",
            "[0.24917733259881167, 0.816220685960028, 69459.78949867706, 60886105.04024547, 23.621057082483045, True]\n",
            "[0.2654879165655476, 0.9042833949613803, 73923.31237281323, 60885472.54150478, 23.81983287289288, True]\n",
            "[0.28908793917051073, 0.811148369457255, 68490.60432000895, 59053472.61202602, 23.643983950286742, True]\n",
            "[0.28644374039359133, 0.857622696096354, 70931.40230710983, 59979260.89548345, 23.76231349274026, True]\n",
            "[0.3169664348821309, 0.8839473095569607, 71632.26245515778, 59775754.117430404, 23.884404050861825, True]\n",
            "[0.31157047323618264, 0.8614972811208214, 70898.34764613857, 60155497.48416683, 23.842998267416718, True]\n",
            "[0.3226422096968877, 0.8490696637932804, 69848.2420838139, 58700601.1947114, 23.78781658551989, True]\n",
            "[0.27659471402311614, 0.8209898404242347, 69582.4568736158, 59012421.840931766, 23.606892789557786, True]\n",
            "[0.3027908506504332, 0.8558376528359969, 70796.01331107029, 58888233.85719639, 23.74520998456946, True]\n",
            "[0.28576940665930706, 0.8439480274139262, 70685.61878592282, 58840507.94344695, 23.665659533173272, True]\n",
            "[0.3570783650332897, 0.8563196425389505, 69495.84883637312, 58191746.710766725, 23.869900807886783, True]\n",
            "[0.28986196104572554, 0.8844657718259874, 72068.21563363487, 60514852.93827931, 23.85829057519577, True]\n",
            "[0.25106589314665834, 0.9391963492730676, 75140.75977011636, 61827076.99230255, 23.98789685622694, True]\n",
            "[0.30783599024583075, 0.8227519913292904, 69104.27737105996, 57619364.94102443, 23.65171279571256, True]\n",
            "[0.35140028623771064, 0.857454517041683, 70098.55674757784, 57067993.71911866, 23.806974424248935, True]\n",
            "[0.3022914748573296, 0.8157474048366805, 68435.39579794, 58767760.7247392, 23.680463534643188, True]\n",
            "[0.2962010991756216, 0.882696895483216, 72423.11331451274, 59286516.957975306, 23.784529213331872, True]\n",
            "[0.2764686795240806, 1.0066956444528559, 77205.89274165325, 62055182.17654577, 24.278712077482805, True]\n",
            "[0.3070972318093089, 0.9284316826442769, 73877.99290454728, 60811124.96535956, 24.0050484448374, True]\n",
            "[0.29648321632525243, 0.882101780468943, 72611.89322839266, 58708424.20545155, 23.75130102608271, True]\n",
            "[0.28172899550413255, 0.8164091706631865, 69087.77899356204, 59047016.932871506, 23.62308464485325, True]\n",
            "[0.2858652676856501, 0.9037558361067253, 73915.58675059208, 59337790.04302488, 23.78143245792235, True]\n",
            "[0.28771707058129986, 0.8839922751437388, 72558.41384308985, 59752938.54394792, 23.787411823237107, True]\n",
            "[0.26283678174594377, 0.8032228291154059, 68487.24818618334, 60193160.133351885, 23.60384752454818, True]\n",
            "[0.3313997854033887, 0.8252773069679495, 68514.00396382791, 57685609.62881909, 23.731215166669088, True]\n",
            "[0.3181930877679938, 0.8270529087484366, 69287.07688447803, 57758868.51804807, 23.67422910430103, True]\n",
            "[0.2701275989166294, 0.8060416066420797, 68886.82273984989, 59142276.42157205, 23.56588818793719, False]\n",
            "[0.32556357061865726, 0.9204451391334045, 73837.89301656607, 59064823.06701007, 23.916561340091537, True]\n",
            "[0.24803765739900868, 0.8488169856493617, 71478.35963197568, 60879526.06698945, 23.659597987816262, True]\n",
            "[0.26611126869908613, 0.8038308776637473, 67942.26127298124, 60772001.28107174, 23.67800324831607, True]\n",
            "[0.29793020304238016, 0.9363454103583435, 74553.42750388607, 60838665.16881151, 23.991348929495487, True]\n",
            "[0.31244734520090406, 0.8650959938636071, 72175.92879042034, 58714410.13407935, 23.78413024798153, True]\n",
            "[0.3021089880081066, 0.8301571293720026, 69519.07556651546, 58250490.18542616, 23.672996233169265, True]\n",
            "[0.24527984055526714, 0.8621782748013093, 72415.91367156834, 60872329.390284926, 23.660553117684906, True]\n",
            "[0.31843288493515826, 0.8200371994165276, 68576.91156787929, 57707440.0824306, 23.685628601448016, True]\n",
            "[0.2799658235694842, 0.9802297968002209, 76280.96059620372, 61841767.48449622, 24.16869959859984, True]\n",
            "[0.3014133978817179, 0.8683151504932621, 71578.62221992323, 58898520.2840845, 23.75882084094463, True]\n",
            "[0.27988277421892654, 0.9368319699100012, 74788.16224326228, 61223768.130140126, 23.979934940017397, True]\n",
            "[0.3041961343506703, 0.9438509126254273, 74350.71798591802, 61347861.17741734, 24.0864609050332, True]\n",
            "[0.34596365306419385, 0.8504654939017354, 69845.61540442868, 57004616.85212487, 23.779420581369337, True]\n",
            "[0.2876169871967973, 0.8167607903427294, 68994.95410645785, 59192071.21034466, 23.64144114292135, True]\n",
            "[0.307712144046572, 0.8390571683941346, 69686.34984452257, 58739870.36603899, 23.729537807217515, True]\n",
            "[0.28316028333938176, 0.9248137420475092, 73917.04405097358, 61323852.11703234, 23.98983746461053, True]\n",
            "[0.2333218017146133, 0.8637087861111978, 72933.97913169618, 61251757.124121524, 23.62770548200069, False]\n",
            "[0.23250581654015565, 0.862787702926618, 73887.29646459875, 61150038.25744342, 23.527949481585775, True]\n",
            "[0.3399846203887472, 0.8999253113216514, 72535.0471735069, 58365018.07630905, 23.89152728734558, True]\n",
            "[0.25431972139309783, 0.8573721304296664, 72101.23169062253, 60245864.66291988, 23.6421294433997, True]\n",
            "[0.3230545451433651, 0.9167859405629583, 73336.21173048463, 59891399.05287287, 23.955902563097624, True]\n",
            "[0.2657730414223606, 0.8795408976115957, 73221.84742902199, 59512122.97078112, 23.674982876016358, True]\n",
            "[0.2664944428820189, 0.8427083912852387, 70348.59153246057, 60692533.30089125, 23.72546409819369, True]\n",
            "[0.2767229464620155, 0.8229876834317992, 69446.71883322438, 59549079.14476459, 23.644341484619936, True]\n",
            "[0.22712004205627379, 0.795865868487099, 69006.18143169286, 61607539.51517254, 23.542248638439293, False]\n",
            "[0.2907676568709423, 0.8416066266297215, 70265.72808162865, 59077544.55240279, 23.69454905748646, True]\n",
            "[0.3221021045356929, 0.8265919575942344, 69046.16711622254, 57145426.11368339, 23.68170544216964, True]\n",
            "[0.3188101111843366, 0.8679612027775869, 71112.66570367984, 58678267.70116579, 23.801418405500375, True]\n",
            "[0.2714423573787456, 0.8107535733298135, 68090.67187524428, 60816252.76704092, 23.71653631074069, True]\n",
            "[0.2635648734260649, 0.8756419113195191, 72766.91074160168, 60163230.49021288, 23.70801857100888, True]\n",
            "[0.33041585063108825, 0.862864528118985, 70825.28317314787, 58531487.30627164, 23.79760896839665, True]\n",
            "[0.24597879989210503, 0.8345635413173675, 71271.33611883852, 60372668.94748907, 23.562165704820078, False]\n",
            "[0.3252111193933829, 0.875652301258554, 71379.00906314104, 60418068.30154321, 23.918130433304874, True]\n",
            "[0.24639464915033843, 0.8528915231105285, 71919.69163216995, 60748787.46764141, 23.63971382755198, True]\n",
            "[0.2841850872610367, 0.8959173384491573, 73553.60684721997, 59300832.63610041, 23.761428267056935, True]\n",
            "[0.3335378217658705, 0.8320812943471567, 69229.25615951771, 56516841.960713565, 23.698485004115803, True]\n",
            "[0.32355783481184036, 0.890745649292958, 71843.90236133567, 59969264.209733866, 23.9191892259654, True]\n",
            "[0.2939923816943599, 0.8431598147360102, 69676.40127624484, 60171099.11977058, 23.784588205644358, True]\n",
            "[0.31497980572799017, 0.9346731475150639, 74161.42978625382, 60611293.58447222, 24.016585192884822, True]\n",
            "[0.29252044643176006, 0.9290627959950405, 74933.20866920313, 59684902.39285846, 23.86509378690919, True]\n",
            "[0.27492484849172344, 0.8075149948431656, 68876.29672031723, 58910790.513065726, 23.574860645869588, True]\n",
            "[0.27620461343758607, 0.8524336328927226, 70749.05478199996, 60391621.71677157, 23.750442739085436, True]\n",
            "[0.2841600037543448, 0.8832645914052637, 73013.03687314328, 58883016.05082093, 23.718178718099605, True]\n",
            "[0.2693037377909929, 0.8480881378928202, 71196.44117362468, 59668134.395054534, 23.656606770676767, True]\n",
            "[0.27702171204210635, 0.8477846309600123, 70390.89989000448, 60458575.34564986, 23.753540005988995, True]\n",
            "[0.26140400933727775, 0.903945269269049, 73927.94645934648, 61253837.09561382, 23.834242000964764, True]\n",
            "[0.2783204197591641, 0.8115030931849743, 68503.1522231835, 59888366.017975986, 23.659134233220993, True]\n",
            "[0.2643582911565695, 0.819331157791727, 69476.4937640876, 60056218.607757404, 23.62274092085911, True]\n",
            "[0.25326758300440794, 0.8304042460962718, 70561.07750927939, 60266139.144970454, 23.59970135386884, False]\n",
            "[0.33964820062835704, 0.8340008032500462, 69506.79789122622, 56223212.12622844, 23.688092468233403, True]\n",
            "[0.24154592874007727, 0.8481294820900593, 72250.62106472018, 60915770.83400726, 23.583293307092934, True]\n",
            "[0.30672711994442675, 0.9551439141209171, 75042.79251069465, 61492173.22439946, 24.122369321046204, True]\n",
            "[0.3256232523980307, 0.8481197819395079, 70360.96893470747, 56762527.65088959, 23.707126695903046, True]\n"
          ]
        }
      ]
    },
    {
      "cell_type": "code",
      "source": [
        "plt.plot(history_1)\n",
        "plt.grid(True)"
      ],
      "metadata": {
        "colab": {
          "base_uri": "https://localhost:8080/",
          "height": 265
        },
        "id": "uNukvJRsmtmn",
        "outputId": "1714e156-faea-4b7e-d5c4-a252c420cb7c"
      },
      "execution_count": null,
      "outputs": [
        {
          "output_type": "display_data",
          "data": {
            "text/plain": [
              "<Figure size 432x288 with 1 Axes>"
            ],
            "image/png": "[encoded data removed]"
          },
          "metadata": {
            "needs_background": "light"
          }
        }
      ]
    },
    {
      "cell_type": "code",
      "source": [
        "plt.plot(history_2)\n",
        "plt.grid(True)"
      ],
      "metadata": {
        "colab": {
          "base_uri": "https://localhost:8080/",
          "height": 265
        },
        "id": "no8IuKASm2mP",
        "outputId": "b23993d5-fd68-43bf-c6b8-1790bdeb5a3b"
      },
      "execution_count": null,
      "outputs": [
        {
          "output_type": "display_data",
          "data": {
            "text/plain": [
              "<Figure size 432x288 with 1 Axes>"
            ],
            "image/png": "[encoded data removed]"
          },
          "metadata": {
            "needs_background": "light"
          }
        }
      ]
    },
    {
      "cell_type": "code",
      "source": [
        "plt.plot(history_3)\n",
        "plt.grid(True)"
      ],
      "metadata": {
        "colab": {
          "base_uri": "https://localhost:8080/",
          "height": 265
        },
        "id": "R8iFI700m4r1",
        "outputId": "d3645c91-1b17-4188-893d-08f33fefdf51"
      },
      "execution_count": null,
      "outputs": [
        {
          "output_type": "display_data",
          "data": {
            "text/plain": [
              "<Figure size 432x288 with 1 Axes>"
            ],
            "image/png": "[encoded data removed]"
          },
          "metadata": {
            "needs_background": "light"
          }
        }
      ]
    },
    {
      "cell_type": "code",
      "source": [
        "plt.plot(history_4)\n",
        "plt.grid(True)"
      ],
      "metadata": {
        "colab": {
          "base_uri": "https://localhost:8080/",
          "height": 265
        },
        "id": "8eIceAIcm6TM",
        "outputId": "e8be4f43-a54e-490f-c142-4f1dca82e0a9"
      },
      "execution_count": null,
      "outputs": [
        {
          "output_type": "display_data",
          "data": {
            "text/plain": [
              "<Figure size 432x288 with 1 Axes>"
            ],
            "image/png": "[encoded data removed]"
          },
          "metadata": {
            "needs_background": "light"
          }
        }
      ]
    },
    {
      "cell_type": "code",
      "source": [
        "history_1"
      ],
      "metadata": {
        "colab": {
          "base_uri": "https://localhost:8080/"
        },
        "id": "8jH4v7jHnCEt",
        "outputId": "1e51d7c4-a658-4671-d8b4-95d8e7763936"
      },
      "execution_count": null,
      "outputs": [
        {
          "output_type": "execute_result",
          "data": {
            "text/plain": [
              "[<tf.Tensor: shape=(), dtype=float32, numpy=0.33286256>,\n",
              " <tf.Tensor: shape=(), dtype=float32, numpy=0.3157376>]"
            ]
          },
          "metadata": {},
          "execution_count": 13
        }
      ]
    },
    {
      "cell_type": "code",
      "source": [
        "history_2"
      ],
      "metadata": {
        "colab": {
          "base_uri": "https://localhost:8080/"
        },
        "id": "L3bRd0XLn_5l",
        "outputId": "5c4027a8-26a7-4c88-bf2c-79fed8fdf6cd"
      },
      "execution_count": null,
      "outputs": [
        {
          "output_type": "execute_result",
          "data": {
            "text/plain": [
              "[<tf.Tensor: shape=(), dtype=float32, numpy=0.33514166>,\n",
              " <tf.Tensor: shape=(), dtype=float32, numpy=0.33002526>]"
            ]
          },
          "metadata": {},
          "execution_count": 14
        }
      ]
    },
    {
      "cell_type": "code",
      "source": [
        "history_3"
      ],
      "metadata": {
        "colab": {
          "base_uri": "https://localhost:8080/"
        },
        "id": "9RzI07lAoGFH",
        "outputId": "a1fa55b9-793a-49ef-f569-383aff541d9c"
      },
      "execution_count": null,
      "outputs": [
        {
          "output_type": "execute_result",
          "data": {
            "text/plain": [
              "[<tf.Tensor: shape=(), dtype=float32, numpy=0.34390354>,\n",
              " <tf.Tensor: shape=(), dtype=float32, numpy=0.34325677>]"
            ]
          },
          "metadata": {},
          "execution_count": 15
        }
      ]
    },
    {
      "cell_type": "code",
      "source": [
        "history_4"
      ],
      "metadata": {
        "colab": {
          "base_uri": "https://localhost:8080/"
        },
        "id": "uTlBfwebqIbd",
        "outputId": "becd7a81-422c-4296-fb37-ad3ef598578f"
      },
      "execution_count": null,
      "outputs": [
        {
          "output_type": "execute_result",
          "data": {
            "text/plain": [
              "[<tf.Tensor: shape=(), dtype=float32, numpy=0.3415135>,\n",
              " <tf.Tensor: shape=(), dtype=float32, numpy=0.33835426>]"
            ]
          },
          "metadata": {},
          "execution_count": 16
        }
      ]
    }
  ]
}